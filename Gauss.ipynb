{
 "cells": [
  {
   "cell_type": "markdown",
   "metadata": {},
   "source": [
    "# Приведение матрицы к верхнему треугольному видy методом Гаусса"
   ]
  },
  {
   "cell_type": "code",
   "execution_count": 1,
   "metadata": {
    "collapsed": true
   },
   "outputs": [],
   "source": [
    "def gau (mat):\n",
    "    n = len(mat)\n",
    "    for i in range (1,n):\n",
    "        for j in range (i,n):\n",
    "            if mat[i-1][i-1] == 0:\n",
    "                continue\n",
    "            p = mat[j][i-1] / mat[i-1][i-1]\n",
    "            for k in range (n):\n",
    "                mat[j][k] -= p*mat[i-1][k]\n",
    "    return mat"
   ]
  },
  {
   "cell_type": "code",
   "execution_count": 2,
   "metadata": {
    "collapsed": true
   },
   "outputs": [],
   "source": [
    "def matout (mat):\n",
    "    for x in range (len(mat)):\n",
    "        print (mat[x])"
   ]
  },
  {
   "cell_type": "code",
   "execution_count": 3,
   "metadata": {},
   "outputs": [
    {
     "name": "stdout",
     "output_type": "stream",
     "text": [
      "[2, 1, -1]\n",
      "[-3, -1, 2]\n",
      "[-2, 1, 2]\n",
      "\n",
      "[2, 1, -1]\n",
      "[0.0, 0.5, 0.5]\n",
      "[0.0, 0.0, -1.0]\n"
     ]
    }
   ],
   "source": [
    "a = [[2, 1, -1], [-3, -1, 2], [-2, 1, 2]]\n",
    "\n",
    "matout(a)\n",
    "print()\n",
    "matout(gau(a))"
   ]
  },
  {
   "cell_type": "code",
   "execution_count": 4,
   "metadata": {},
   "outputs": [
    {
     "name": "stdout",
     "output_type": "stream",
     "text": [
      "[8, 1, -2, -22]\n",
      "[2, -1, 2, 2]\n",
      "[2, 1, -1, -1]\n",
      "[1, 1, -3, 2]\n",
      "\n",
      "[8, 1, -2, -22]\n",
      "[0.0, -1.25, 2.5, 7.5]\n",
      "[0.0, 0.0, 1.0, 9.0]\n",
      "[0.0, 0.0, 0.0, 19.0]\n"
     ]
    }
   ],
   "source": [
    "b = [[8, 1, -2, -22], [2, -1, 2, 2], [2, 1, -1, -1], [1, 1, -3, 2]]\n",
    "\n",
    "matout(b)\n",
    "print()\n",
    "matout(gau(b))"
   ]
  },
  {
   "cell_type": "code",
   "execution_count": null,
   "metadata": {
    "collapsed": true
   },
   "outputs": [],
   "source": []
  }
 ],
 "metadata": {
  "kernelspec": {
   "display_name": "Python 3",
   "language": "python",
   "name": "python3"
  },
  "language_info": {
   "codemirror_mode": {
    "name": "ipython",
    "version": 3
   },
   "file_extension": ".py",
   "mimetype": "text/x-python",
   "name": "python",
   "nbconvert_exporter": "python",
   "pygments_lexer": "ipython3",
   "version": "3.6.3"
  }
 },
 "nbformat": 4,
 "nbformat_minor": 2
}
