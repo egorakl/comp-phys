{
 "cells": [
  {
   "cell_type": "markdown",
   "metadata": {},
   "source": [
    "# Нахождение корней уравнения |sin(x)|=kx"
   ]
  },
  {
   "cell_type": "code",
   "execution_count": 1,
   "metadata": {
    "collapsed": true
   },
   "outputs": [],
   "source": [
    "import math\n",
    "\n",
    "e = 10 ** (-10)\n",
    "a1 = -math.pi/2\n",
    "b1 = 0"
   ]
  },
  {
   "cell_type": "code",
   "execution_count": 2,
   "metadata": {
    "collapsed": true
   },
   "outputs": [],
   "source": [
    "def f(x):\n",
    "    return abs(math.sin(x)) - k*x"
   ]
  },
  {
   "cell_type": "code",
   "execution_count": 3,
   "metadata": {
    "collapsed": true
   },
   "outputs": [],
   "source": [
    "def halfdiv (a, b, f):\n",
    "    x = (a + b) / 2\n",
    "    while abs(f(x)) >= e:\n",
    "        x = (a + b) / 2\n",
    "        a, b = (a, x) if f(a) * f(x) < 0 else (x, b)\n",
    "    return (a + b) / 2"
   ]
  },
  {
   "cell_type": "code",
   "execution_count": 4,
   "metadata": {
    "collapsed": true
   },
   "outputs": [],
   "source": [
    "def solution (a, b, k):\n",
    "    s = [0]\n",
    "    while(k * a <= 1):\n",
    "        a += math.pi/2\n",
    "        b += math.pi/2\n",
    "        if f(a) * f(b) < 0:\n",
    "            s.append(halfdiv(a,b,f))\n",
    "    return s"
   ]
  },
  {
   "cell_type": "code",
   "execution_count": 5,
   "metadata": {},
   "outputs": [
    {
     "name": "stdout",
     "output_type": "stream",
     "text": [
      "[0, 2.852341894368931, 3.4990638199958717, 5.6792077962690914, 7.068174357490118, 8.423203932528022]\n",
      "[0, 2.9914564335507383, 3.3077432190449008, 5.979563629535146, 6.620579108825692, 8.960237640743287, 9.945216698331791, 11.92739936559046, 13.293424285028596, 14.869696929899835, 16.695705980860524, 17.75691394031734]\n"
     ]
    }
   ],
   "source": [
    "for k in 0.1, 0.05:\n",
    "    print (solution(a1, b1, k))"
   ]
  },
  {
   "cell_type": "code",
   "execution_count": null,
   "metadata": {
    "collapsed": true
   },
   "outputs": [],
   "source": []
  }
 ],
 "metadata": {
  "kernelspec": {
   "display_name": "Python 3",
   "language": "python",
   "name": "python3"
  },
  "language_info": {
   "codemirror_mode": {
    "name": "ipython",
    "version": 3
   },
   "file_extension": ".py",
   "mimetype": "text/x-python",
   "name": "python",
   "nbconvert_exporter": "python",
   "pygments_lexer": "ipython3",
   "version": "3.6.3"
  }
 },
 "nbformat": 4,
 "nbformat_minor": 2
}
